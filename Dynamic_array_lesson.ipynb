{
  "nbformat": 4,
  "nbformat_minor": 0,
  "metadata": {
    "colab": {
      "provenance": []
    },
    "kernelspec": {
      "name": "python3",
      "display_name": "Python 3"
    },
    "language_info": {
      "name": "python"
    }
  },
  "cells": [
    {
      "cell_type": "markdown",
      "source": [
        "#**What is a Dynamic Array?**\n",
        "A dynamic array is an array that can grow or shrink in size automatically. Unlike static arrays (which have a fixed size), dynamic arrays allocate memory dynamically and resize when needed.\n",
        "#**Key Properties of a Dynamic Array:**\n",
        "•\tResizable: Can grow or shrink as needed.\n",
        "•\tFast Access: Elements can be accessed in O(1) time using indexing.\n",
        "•\tEfficient Memory Usage: Allocates extra space to reduce the number of resizes.\n",
        "•\tSlower Insert/Delete in Middle: Shifting elements takes O(n) time.\n",
        "#**2. How Dynamic Arrays Work Internally?**\n",
        "Python’s list behaves like a dynamic array, but internally it follows memory management rules.\n",
        "\n",
        "# **3. Time Complexity of Dynamic Array Operations**\n",
        "Operation\tAverage Case\tWorst Case\n",
        "Access (Indexing)\tO(1)\tO(1)\n",
        "\n",
        "\n",
        "1. Append\tO(1) Amortized\tO(n) (when resizing happens)\n",
        "2. Insert (Middle)\tO(n)\tO(n)\n",
        "3. Delete (Middle)\tO(n)\tO(n)\n",
        "4. Remove by Value\tO(n)\tO(n)\n",
        "5. Searching (in operator)\tO(n)\tO(n)\n",
        "6. Pop (Last)\tO(1)\tO(1)\n",
        "\n",
        "\n",
        "\n",
        "\n"
      ],
      "metadata": {
        "id": "xQ07wHbV_sFz"
      }
    },
    {
      "cell_type": "markdown",
      "source": [
        "Features to be implemented :\n",
        "\n",
        "\n",
        "1.   length of array\n",
        "2.   Printing the array\n",
        "3.   Fetching item with index\n",
        "4.   Appending new item\n",
        "5.   Inserting at specific position\n",
        "6.   Deleting at index\n",
        "7.   deleteing by value\n",
        "8.   pop()\n",
        "9.    Clear\n",
        "10.   Search an item"
      ],
      "metadata": {
        "id": "zsNpy5lRONlZ"
      }
    },
    {
      "cell_type": "code",
      "source": [
        "#1 length of an array\n",
        "arr=[10,20,30,40]\n",
        "len(arr)\n"
      ],
      "metadata": {
        "colab": {
          "base_uri": "https://localhost:8080/"
        },
        "id": "IJQMcG2GFoCR",
        "outputId": "dd2f9e44-6ebb-4e4e-d59c-0132e34384ab"
      },
      "execution_count": 79,
      "outputs": [
        {
          "output_type": "execute_result",
          "data": {
            "text/plain": [
              "4"
            ]
          },
          "metadata": {},
          "execution_count": 79
        }
      ]
    },
    {
      "cell_type": "code",
      "source": [
        "#2 Axcessing Array items using for loop\n",
        "for i in arr:\n",
        "  print(i)"
      ],
      "metadata": {
        "colab": {
          "base_uri": "https://localhost:8080/"
        },
        "id": "zhpOeWDyFtrh",
        "outputId": "20085941-73a2-4777-ab6c-33e08ab1baa5"
      },
      "execution_count": 80,
      "outputs": [
        {
          "output_type": "stream",
          "name": "stdout",
          "text": [
            "10\n",
            "20\n",
            "30\n",
            "40\n"
          ]
        }
      ]
    },
    {
      "cell_type": "code",
      "source": [
        "#3 Fetching item\n",
        "arr[2]"
      ],
      "metadata": {
        "colab": {
          "base_uri": "https://localhost:8080/"
        },
        "id": "hTjkEKE_F58m",
        "outputId": "db528f39-662d-4856-cd77-e2338122e4d3"
      },
      "execution_count": 81,
      "outputs": [
        {
          "output_type": "execute_result",
          "data": {
            "text/plain": [
              "30"
            ]
          },
          "metadata": {},
          "execution_count": 81
        }
      ]
    },
    {
      "cell_type": "code",
      "source": [
        "#4 Apendding a new item\n",
        "arr.append(60)\n",
        "arr\n"
      ],
      "metadata": {
        "colab": {
          "base_uri": "https://localhost:8080/"
        },
        "id": "NUHIIOXSGAAT",
        "outputId": "baa9cd04-477c-4001-dc1f-6a05b3ed865a"
      },
      "execution_count": 82,
      "outputs": [
        {
          "output_type": "execute_result",
          "data": {
            "text/plain": [
              "[10, 20, 30, 40, 60]"
            ]
          },
          "metadata": {},
          "execution_count": 82
        }
      ]
    },
    {
      "cell_type": "code",
      "source": [
        "#5 inserting an element into specific function\n",
        "arr.insert(3,50)\n",
        "arr"
      ],
      "metadata": {
        "colab": {
          "base_uri": "https://localhost:8080/"
        },
        "id": "REtkXW2BGbZf",
        "outputId": "60e27a33-afdf-4a79-cb21-38f6f8310a8f"
      },
      "execution_count": 83,
      "outputs": [
        {
          "output_type": "execute_result",
          "data": {
            "text/plain": [
              "[10, 20, 30, 50, 40, 60]"
            ]
          },
          "metadata": {},
          "execution_count": 83
        }
      ]
    },
    {
      "cell_type": "code",
      "source": [
        "#6 deleting an item by index\n",
        "del arr[0]\n",
        "arr"
      ],
      "metadata": {
        "colab": {
          "base_uri": "https://localhost:8080/"
        },
        "id": "zMsrtYT-GngP",
        "outputId": "8aa1d0ce-57fe-49d5-8d2d-9554e7489d0d"
      },
      "execution_count": 84,
      "outputs": [
        {
          "output_type": "execute_result",
          "data": {
            "text/plain": [
              "[20, 30, 50, 40, 60]"
            ]
          },
          "metadata": {},
          "execution_count": 84
        }
      ]
    },
    {
      "cell_type": "code",
      "source": [
        "#7 remove by value\n",
        "arr.remove(30)\n",
        "arr"
      ],
      "metadata": {
        "colab": {
          "base_uri": "https://localhost:8080/"
        },
        "id": "eEGu6sZqGwov",
        "outputId": "519dd675-7286-4c2b-a586-f084f8f40e31"
      },
      "execution_count": 85,
      "outputs": [
        {
          "output_type": "execute_result",
          "data": {
            "text/plain": [
              "[20, 50, 40, 60]"
            ]
          },
          "metadata": {},
          "execution_count": 85
        }
      ]
    },
    {
      "cell_type": "code",
      "source": [
        "#8 use pop() [index value can be mentioned if not than it will delete the last element]\n",
        "arr.pop()\n",
        "arr"
      ],
      "metadata": {
        "colab": {
          "base_uri": "https://localhost:8080/"
        },
        "id": "SvavF15GG2dE",
        "outputId": "c353dd0b-6a66-4511-eb8f-5d687c03dee3"
      },
      "execution_count": 86,
      "outputs": [
        {
          "output_type": "execute_result",
          "data": {
            "text/plain": [
              "[20, 50, 40]"
            ]
          },
          "metadata": {},
          "execution_count": 86
        }
      ]
    },
    {
      "cell_type": "code",
      "source": [
        "#9 Clear() method [it will delete everything]\n",
        "arr.clear()\n",
        "arr"
      ],
      "metadata": {
        "colab": {
          "base_uri": "https://localhost:8080/"
        },
        "id": "b5L-x7sPHDXz",
        "outputId": "25ec5255-1dc9-4cd3-9423-ecbd20cfee0c"
      },
      "execution_count": 89,
      "outputs": [
        {
          "output_type": "execute_result",
          "data": {
            "text/plain": [
              "[]"
            ]
          },
          "metadata": {},
          "execution_count": 89
        }
      ]
    },
    {
      "cell_type": "code",
      "source": [
        "#10 searching an item\n",
        "a=[10,20,30,40,50,60,70]\n",
        "if 20 in a:\n",
        "  print(True)\n",
        "else:\n",
        "  print(False)"
      ],
      "metadata": {
        "colab": {
          "base_uri": "https://localhost:8080/"
        },
        "id": "yzzkA4v-Hl4C",
        "outputId": "4fab6eaa-0a40-419d-89a5-7bdce69f69fb"
      },
      "execution_count": 91,
      "outputs": [
        {
          "output_type": "stream",
          "name": "stdout",
          "text": [
            "True\n"
          ]
        }
      ]
    },
    {
      "cell_type": "markdown",
      "source": [
        "In python List works as Dynamic array but it fllows the memory management rules. When we need to resize the size of array it will create new array with inceased size and allocate the old array on it and then delete the past array."
      ],
      "metadata": {
        "id": "tvP2tJIqNHRH"
      }
    },
    {
      "cell_type": "code",
      "source": [
        "arr=[]\n",
        "print(sys.getsizeof(arr))\n",
        "arr.append(3)\n",
        "print(sys.getsizeof(arr))\n",
        "arr.extend([4,5,6,7,9])\n",
        "print(sys.getsizeof(arr))\n"
      ],
      "metadata": {
        "colab": {
          "base_uri": "https://localhost:8080/"
        },
        "id": "We_VneyFMwvA",
        "outputId": "bf64745a-d6a5-4b3d-9199-5fa42b01ac83"
      },
      "execution_count": 95,
      "outputs": [
        {
          "output_type": "stream",
          "name": "stdout",
          "text": [
            "56\n",
            "88\n",
            "152\n"
          ]
        }
      ]
    },
    {
      "cell_type": "markdown",
      "source": [
        "The end\n"
      ],
      "metadata": {
        "id": "Pz5UjIkVPTWc"
      }
    }
  ]
}